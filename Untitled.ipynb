{
 "cells": [
  {
   "cell_type": "code",
   "execution_count": 1,
   "id": "181f6dde",
   "metadata": {},
   "outputs": [
    {
     "name": "stdout",
     "output_type": "stream",
     "text": [
      "pygame 2.0.1 (SDL 2.0.14, Python 3.9.6)\n",
      "Hello from the pygame community. https://www.pygame.org/contribute.html\n"
     ]
    }
   ],
   "source": [
    "import pygame\n",
    "import sys\n",
    "import random\n"
   ]
  },
  {
   "cell_type": "code",
   "execution_count": 5,
   "id": "936403a6",
   "metadata": {},
   "outputs": [
    {
     "ename": "SystemExit",
     "evalue": "",
     "output_type": "error",
     "traceback": [
      "An exception has occurred, use %tb to see the full traceback.\n",
      "\u001b[1;31mSystemExit\u001b[0m\n"
     ]
    }
   ],
   "source": [
    "pygame.init()\n",
    "\n",
    "def game_floor():\n",
    "    screen.blit(floor_base,(floor_x_pos,600))\n",
    "    \n",
    "\n",
    "clock = pygame.time.Clock()\n",
    "rocket_movement = 100\n",
    "gravity = 1\n",
    "screen = pygame.display.set_mode((1289, 800))\n",
    "background = pygame.image.load('./gallery/back1.png').convert()\n",
    "background_x_pos = 0\n",
    "# background = pygame.transform.scale2x(background)\n",
    "rocket = pygame.image.load('./gallery/rocket3.png').convert()\n",
    "rocket_rect = rocket.get_rect(center=(100,330))\n",
    "floor_base = pygame.image.load('./gallery/base.png').convert()\n",
    "floor_base = pygame.transform.scale2x(floor_base)\n",
    "\n",
    "message = pygame.image.load('./gallery/message1.png').convert()\n",
    "\n",
    "# Building Pipes\n",
    "pipe_surface1 = pygame.image.load('./gallery/pipe.png')\n",
    "# pipe_surface1 = pygame.transform.scale2x(pipe_surface1)\n",
    "pipe_surface2 = pygame.transform.flip(pipe_surface1, False, True)\n",
    "pipe_list = []\n",
    "\n",
    "pipe_height = [220,330,440]\n",
    "\n",
    "SPAWNPIPE = pygame.USEREVENT\n",
    "pygame.time.set_timer(SPAWNPIPE, 1200)\n",
    "\n",
    "def check_collision():\n",
    "    if rocket_rect.top <= -100 or rocket_rect.bottom >= 660:\n",
    "        return False\n",
    "    else:\n",
    "        return True\n",
    "\n",
    "def create_pipe():\n",
    "    random_pipe_pos = random.choice(pipe_height)\n",
    "    top_pipe = pipe_surface1.get_rect(midbottom = (260, random_pipe_pos-120))\n",
    "    bottom_pipe = pipe_surface2.get_rect(midtop = (660, random_pipe_pos))\n",
    "    \n",
    "    return bottom_pipe, top_pipe\n",
    "\n",
    "def move_pipes(pipes):\n",
    "    \n",
    "    n = len(pipes)\n",
    "    i = 4\n",
    "    while i < n:\n",
    "        pipes[i].centerx = pipes[i+1].centerx\n",
    "        pipes[i+1].centerx -= 3\n",
    "        pipes[i].centerx -= 3\n",
    "        i += 2\n",
    "    return pipes    \n",
    "\n",
    "def draw_pipes(pipes):\n",
    "    for pipe in pipes:\n",
    "        if pipe.bottom >= 440:\n",
    "            screen.blit(pipe_surface1, pipe)\n",
    "        else:\n",
    "            screen.blit(pipe_surface2, pipe)    \n",
    "        # screen.blit(pipe_surface2, pipe2)\n",
    "temp = []\n",
    "for i in range(4):\n",
    "    temp.extend(create_pipe())\n",
    "for i in range(2,7,2):\n",
    "    #  temp[i].centerx = temp[i+1].centerx   \n",
    "     temp[i].centerx = 200*i\n",
    "     temp[i+1].centerx = 200*i\n",
    "\n",
    "for i in temp:\n",
    "    pipe_list.append(i)\n",
    "move_pipes(pipe_list)\n",
    "draw_pipes(pipe_list)\n",
    "floor_x_pos = 0\n",
    "game_active = True\n",
    "while True:\n",
    "    for event in pygame.event.get():\n",
    "        if event.type == pygame.QUIT:\n",
    "            pygame.quit()\n",
    "            sys.exit()\n",
    "        if event.type == pygame.KEYDOWN:\n",
    "            if game_active and (event.key == pygame.K_SPACE or event.key==pygame.K_UP):\n",
    "                # rocket_movement = 0\n",
    "                rocket_movement -= 15 # background_x_pos -= 1\n",
    "            if game_active == False and (event.key == pygame.K_SPACE or event.key==pygame.K_UP):\n",
    "                # rocket_movement = 0\n",
    "                rocket_rect.center = (100,330)\n",
    "                rocket_movement = 100\n",
    "                game_active = True\n",
    "        if event.type == SPAWNPIPE and game_active:\n",
    "            pipe_list.extend(create_pipe())   \n",
    "    screen.blit(background, (background_x_pos,0))\n",
    "   \n",
    "    game_active = check_collision()     \n",
    "    if game_active:\n",
    "    # for i in range(10):\n",
    "    #     screen.blit(background, (background_x_pos + 1289*i,0))\n",
    "        # gravity += 0.01\n",
    "        rocket_movement += gravity\n",
    "        rocket_rect.centery = rocket_movement\n",
    "        screen.blit(rocket, rocket_rect)\n",
    "\n",
    "\n",
    "        pipe_list = move_pipes(pipe_list)\n",
    "        draw_pipes(pipe_list)\n",
    "        game_floor()\n",
    "        if floor_x_pos <= -1289:\n",
    "            floor_x_pos = 0        \n",
    "\n",
    "    else:\n",
    "        pygame.display.set_mode((1289,800))\n",
    "        screen.blit(message, (background_x_pos,0))\n",
    "\n",
    "    floor_x_pos -= 1\n",
    "    #check for collision\n",
    "\n",
    "\n",
    "\n",
    "    \n",
    "    pygame.display.update()\n",
    "    clock.tick(200)"
   ]
  },
  {
   "cell_type": "code",
   "execution_count": null,
   "id": "232d4b91",
   "metadata": {},
   "outputs": [],
   "source": []
  },
  {
   "cell_type": "code",
   "execution_count": null,
   "id": "7fd0dc97",
   "metadata": {},
   "outputs": [],
   "source": []
  }
 ],
 "metadata": {
  "kernelspec": {
   "display_name": "Python 3.9.6 64-bit (system)",
   "language": "python",
   "name": "python3"
  },
  "language_info": {
   "codemirror_mode": {
    "name": "ipython",
    "version": 3
   },
   "file_extension": ".py",
   "mimetype": "text/x-python",
   "name": "python",
   "nbconvert_exporter": "python",
   "pygments_lexer": "ipython3",
   "version": "3.9.6"
  },
  "vscode": {
   "interpreter": {
    "hash": "25034407fed5d681614dac11a1c0537e8cb49e3a8883c071303eea01322943d9"
   }
  }
 },
 "nbformat": 4,
 "nbformat_minor": 5
}
